{
 "cells": [
  {
   "attachments": {},
   "cell_type": "markdown",
   "metadata": {},
   "source": [
    "# Visualizations of the Wikipedia Talk Pages corpus\n",
    "\n",
    "Source: https://convokit.cornell.edu/documentation/wiki.html\n"
   ]
  },
  {
   "attachments": {},
   "cell_type": "markdown",
   "metadata": {},
   "source": [
    "## Import modules"
   ]
  },
  {
   "cell_type": "code",
   "execution_count": null,
   "metadata": {
    "vscode": {
     "languageId": "plaintext"
    }
   },
   "outputs": [],
   "source": [
    "!pip install convokit\n",
    "!git clone https://github.com/jbruneaubongard/linguistic_patterns_wikipedia.git"
   ]
  },
  {
   "cell_type": "code",
   "execution_count": null,
   "metadata": {
    "vscode": {
     "languageId": "plaintext"
    }
   },
   "outputs": [],
   "source": [
    "from convokit import Corpus, download\n",
    "from datetime import datetime, timedelta\n",
    "\n",
    "from script.data_viz.utils import *"
   ]
  },
  {
   "attachments": {},
   "cell_type": "markdown",
   "metadata": {},
   "source": [
    "## Preprocessing"
   ]
  },
  {
   "cell_type": "code",
   "execution_count": null,
   "metadata": {
    "vscode": {
     "languageId": "plaintext"
    }
   },
   "outputs": [],
   "source": [
    "corpus = Corpus(filename=download('wiki-corpus'))\n",
    "df_utt = corpus.get_utterances_dataframe()\n",
    "df_utt['timestamp'] = df_utt['timestamp'].apply(lambda x: float(x))\n",
    "\n",
    "# Convert timestamp to datetime\n",
    "df_utt[\"date\"] = pd.to_datetime(df_utt[\"timestamp\"], unit='s')\n",
    "\n",
    "# Delete data with inconsistent date\n",
    "df_utt = df_utt[(df_utt['date'].apply(lambda x: x.year) < 2014) & (df_utt['date'].apply(lambda x: x.year) > 2000)]\n",
    "\n",
    "# Dataframes of admin / non-admin\n",
    "\n",
    "df_admin = df_utt[df_utt['meta.is-admin'].apply(lambda x: x)]\n",
    "df_non_admin = df_utt[df_utt['meta.is-admin'].apply(lambda x: not x)]"
   ]
  },
  {
   "attachments": {},
   "cell_type": "markdown",
   "metadata": {},
   "source": [
    "## Histogram of utterances"
   ]
  },
  {
   "cell_type": "code",
   "execution_count": null,
   "metadata": {
    "vscode": {
     "languageId": "plaintext"
    }
   },
   "outputs": [],
   "source": [
    "start_date = '2003-04-01'\n",
    "end_date = '2011-08-09'\n",
    "\n",
    "bin_size_months = 3\n",
    "\n",
    "get_histogram(df_admin, df_non_admin, start_date, end_date, bin_size_months)"
   ]
  },
  {
   "attachments": {},
   "cell_type": "markdown",
   "metadata": {},
   "source": [
    "## Sankey diagram for speakers"
   ]
  },
  {
   "cell_type": "code",
   "execution_count": null,
   "metadata": {
    "vscode": {
     "languageId": "plaintext"
    }
   },
   "outputs": [],
   "source": [
    "start_date = '2003-04-01'\n",
    "end_date = '2011-08-09'"
   ]
  },
  {
   "cell_type": "code",
   "execution_count": null,
   "metadata": {
    "vscode": {
     "languageId": "plaintext"
    }
   },
   "outputs": [],
   "source": [
    "get_sankey_plot(df_utt, start_date, end_date, 92, [1,2, 3, 4, 5])"
   ]
  },
  {
   "cell_type": "code",
   "execution_count": null,
   "metadata": {
    "vscode": {
     "languageId": "plaintext"
    }
   },
   "outputs": [],
   "source": [
    "get_sankey_plot(df_utt, start_date, end_date, 183, [1,2,3,4,5])"
   ]
  }
 ],
 "metadata": {
  "language_info": {
   "name": "python"
  },
  "orig_nbformat": 4
 },
 "nbformat": 4,
 "nbformat_minor": 2
}
